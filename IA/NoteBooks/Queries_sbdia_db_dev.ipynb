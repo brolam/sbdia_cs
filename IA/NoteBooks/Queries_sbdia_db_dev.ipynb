{
 "cells": [
  {
   "source": [
    "# Queries from Dev MySQL "
   ],
   "cell_type": "markdown",
   "metadata": {}
  },
  {
   "source": [
    "## Imports"
   ],
   "cell_type": "markdown",
   "metadata": {}
  },
  {
   "cell_type": "code",
   "execution_count": 1,
   "metadata": {},
   "outputs": [],
   "source": [
    "from sqlalchemy import create_engine\n",
    "import pymysql\n",
    "import pandas as pd"
   ]
  },
  {
   "source": [
    "## MySQL Connection"
   ],
   "cell_type": "markdown",
   "metadata": {}
  },
  {
   "cell_type": "code",
   "execution_count": 3,
   "metadata": {},
   "outputs": [],
   "source": [
    "db_connection_str = 'mysql+pymysql://dev_db_user:dev_db_user@db/sbdia_db_dev'\n",
    "db_connection = create_engine(db_connection_str)\n",
    "\n",
    "def read_sql(sql):\n",
    "    return pd.read_sql(sql, db_connection)"
   ]
  },
  {
   "source": [
    "## Tables"
   ],
   "cell_type": "markdown",
   "metadata": {}
  },
  {
   "cell_type": "code",
   "execution_count": 3,
   "metadata": {},
   "outputs": [
    {
     "output_type": "execute_result",
     "data": {
      "text/plain": "   Tables_in_sbdia_db_dev\n0        AspNetRoleClaims\n1             AspNetRoles\n2        AspNetUserClaims\n3        AspNetUserLogins\n4         AspNetUserRoles\n5        AspNetUserTokens\n6             AspNetUsers\n7             DeviceCodes\n8         PersistedGrants\n9             SensorCosts\n10         SensorDimTimes\n11       SensorEnergyLogs\n12        SensorLogBatchs\n13                Sensors\n14  __EFMigrationsHistory",
      "text/html": "<div>\n<style scoped>\n    .dataframe tbody tr th:only-of-type {\n        vertical-align: middle;\n    }\n\n    .dataframe tbody tr th {\n        vertical-align: top;\n    }\n\n    .dataframe thead th {\n        text-align: right;\n    }\n</style>\n<table border=\"1\" class=\"dataframe\">\n  <thead>\n    <tr style=\"text-align: right;\">\n      <th></th>\n      <th>Tables_in_sbdia_db_dev</th>\n    </tr>\n  </thead>\n  <tbody>\n    <tr>\n      <th>0</th>\n      <td>AspNetRoleClaims</td>\n    </tr>\n    <tr>\n      <th>1</th>\n      <td>AspNetRoles</td>\n    </tr>\n    <tr>\n      <th>2</th>\n      <td>AspNetUserClaims</td>\n    </tr>\n    <tr>\n      <th>3</th>\n      <td>AspNetUserLogins</td>\n    </tr>\n    <tr>\n      <th>4</th>\n      <td>AspNetUserRoles</td>\n    </tr>\n    <tr>\n      <th>5</th>\n      <td>AspNetUserTokens</td>\n    </tr>\n    <tr>\n      <th>6</th>\n      <td>AspNetUsers</td>\n    </tr>\n    <tr>\n      <th>7</th>\n      <td>DeviceCodes</td>\n    </tr>\n    <tr>\n      <th>8</th>\n      <td>PersistedGrants</td>\n    </tr>\n    <tr>\n      <th>9</th>\n      <td>SensorCosts</td>\n    </tr>\n    <tr>\n      <th>10</th>\n      <td>SensorDimTimes</td>\n    </tr>\n    <tr>\n      <th>11</th>\n      <td>SensorEnergyLogs</td>\n    </tr>\n    <tr>\n      <th>12</th>\n      <td>SensorLogBatchs</td>\n    </tr>\n    <tr>\n      <th>13</th>\n      <td>Sensors</td>\n    </tr>\n    <tr>\n      <th>14</th>\n      <td>__EFMigrationsHistory</td>\n    </tr>\n  </tbody>\n</table>\n</div>"
     },
     "metadata": {},
     "execution_count": 3
    }
   ],
   "source": [
    "tables = pd.read_sql(\"show tables\", db_connection)\n",
    "tables"
   ]
  },
  {
   "source": [
    "## Sensors"
   ],
   "cell_type": "markdown",
   "metadata": {}
  },
  {
   "cell_type": "code",
   "execution_count": 4,
   "metadata": {},
   "outputs": [
    {
     "output_type": "execute_result",
     "data": {
      "text/plain": "                                     Id                               OwnerId  \\\n0  e9f9993d-b972-4255-8d55-afb98684e577  3c193a1b-5cb8-42fb-ac73-0afc68dc3146   \n\n   SensorType       Name        TimeZone  DefaultToConvert  LogDurationMode  \\\n0           0  Sensor 01  America/Recife            26.378             15.0   \n\n                         SecretApiToken  \n0  d9d1ae11-005e-4506-8a40-9615b794d68a  ",
      "text/html": "<div>\n<style scoped>\n    .dataframe tbody tr th:only-of-type {\n        vertical-align: middle;\n    }\n\n    .dataframe tbody tr th {\n        vertical-align: top;\n    }\n\n    .dataframe thead th {\n        text-align: right;\n    }\n</style>\n<table border=\"1\" class=\"dataframe\">\n  <thead>\n    <tr style=\"text-align: right;\">\n      <th></th>\n      <th>Id</th>\n      <th>OwnerId</th>\n      <th>SensorType</th>\n      <th>Name</th>\n      <th>TimeZone</th>\n      <th>DefaultToConvert</th>\n      <th>LogDurationMode</th>\n      <th>SecretApiToken</th>\n    </tr>\n  </thead>\n  <tbody>\n    <tr>\n      <th>0</th>\n      <td>e9f9993d-b972-4255-8d55-afb98684e577</td>\n      <td>3c193a1b-5cb8-42fb-ac73-0afc68dc3146</td>\n      <td>0</td>\n      <td>Sensor 01</td>\n      <td>America/Recife</td>\n      <td>26.378</td>\n      <td>15.0</td>\n      <td>d9d1ae11-005e-4506-8a40-9615b794d68a</td>\n    </tr>\n  </tbody>\n</table>\n</div>"
     },
     "metadata": {},
     "execution_count": 4
    }
   ],
   "source": [
    "sensors = pd.read_sql(\"SELECT * FROM Sensors\", db_connection)\n",
    "sensors.head()"
   ]
  },
  {
   "source": [
    "## SensorCosts"
   ],
   "cell_type": "markdown",
   "metadata": {}
  },
  {
   "cell_type": "code",
   "execution_count": 22,
   "metadata": {},
   "outputs": [
    {
     "output_type": "execute_result",
     "data": {
      "text/plain": "   Id                              SensorId Title  Value\n0   1  e9f9993d-b972-4255-8d55-afb98684e577     $    0.0",
      "text/html": "<div>\n<style scoped>\n    .dataframe tbody tr th:only-of-type {\n        vertical-align: middle;\n    }\n\n    .dataframe tbody tr th {\n        vertical-align: top;\n    }\n\n    .dataframe thead th {\n        text-align: right;\n    }\n</style>\n<table border=\"1\" class=\"dataframe\">\n  <thead>\n    <tr style=\"text-align: right;\">\n      <th></th>\n      <th>Id</th>\n      <th>SensorId</th>\n      <th>Title</th>\n      <th>Value</th>\n    </tr>\n  </thead>\n  <tbody>\n    <tr>\n      <th>0</th>\n      <td>1</td>\n      <td>e9f9993d-b972-4255-8d55-afb98684e577</td>\n      <td>$</td>\n      <td>0.0</td>\n    </tr>\n  </tbody>\n</table>\n</div>"
     },
     "metadata": {},
     "execution_count": 22
    }
   ],
   "source": [
    "sensorCosts = pd.read_sql(\"SELECT * FROM SensorCosts\", db_connection)\n",
    "sensorCosts.head()"
   ]
  },
  {
   "source": [
    "## SensorDimTimes"
   ],
   "cell_type": "markdown",
   "metadata": {}
  },
  {
   "source": [
    "sensorDimTimes = pd.read_sql(\"SELECT * FROM SensorDimTimes\", db_connection)\n",
    "sensorDimTimes.head()"
   ],
   "cell_type": "code",
   "metadata": {},
   "execution_count": 23,
   "outputs": [
    {
     "output_type": "execute_result",
     "data": {
      "text/plain": "   Id                              SensorId  SensorCostId            DateTime  \\\n0   1  e9f9993d-b972-4255-8d55-afb98684e577             1 2019-11-24 12:20:30   \n1   2  e9f9993d-b972-4255-8d55-afb98684e577             1 2019-11-24 12:20:45   \n2   3  e9f9993d-b972-4255-8d55-afb98684e577             1 2019-11-24 12:21:00   \n3   4  e9f9993d-b972-4255-8d55-afb98684e577             1 2019-11-24 12:21:40   \n4   5  e9f9993d-b972-4255-8d55-afb98684e577             1 2019-11-24 12:20:30   \n\n   Year  Month  Day  Hour  DayOfWeek  PeriodOfDay  \n0  2019     11   24    12          0            1  \n1  2019     11   24    12          0            1  \n2  2019     11   24    12          0            1  \n3  2019     11   24    12          0            1  \n4  2019     11   24    12          0            1  ",
      "text/html": "<div>\n<style scoped>\n    .dataframe tbody tr th:only-of-type {\n        vertical-align: middle;\n    }\n\n    .dataframe tbody tr th {\n        vertical-align: top;\n    }\n\n    .dataframe thead th {\n        text-align: right;\n    }\n</style>\n<table border=\"1\" class=\"dataframe\">\n  <thead>\n    <tr style=\"text-align: right;\">\n      <th></th>\n      <th>Id</th>\n      <th>SensorId</th>\n      <th>SensorCostId</th>\n      <th>DateTime</th>\n      <th>Year</th>\n      <th>Month</th>\n      <th>Day</th>\n      <th>Hour</th>\n      <th>DayOfWeek</th>\n      <th>PeriodOfDay</th>\n    </tr>\n  </thead>\n  <tbody>\n    <tr>\n      <th>0</th>\n      <td>1</td>\n      <td>e9f9993d-b972-4255-8d55-afb98684e577</td>\n      <td>1</td>\n      <td>2019-11-24 12:20:30</td>\n      <td>2019</td>\n      <td>11</td>\n      <td>24</td>\n      <td>12</td>\n      <td>0</td>\n      <td>1</td>\n    </tr>\n    <tr>\n      <th>1</th>\n      <td>2</td>\n      <td>e9f9993d-b972-4255-8d55-afb98684e577</td>\n      <td>1</td>\n      <td>2019-11-24 12:20:45</td>\n      <td>2019</td>\n      <td>11</td>\n      <td>24</td>\n      <td>12</td>\n      <td>0</td>\n      <td>1</td>\n    </tr>\n    <tr>\n      <th>2</th>\n      <td>3</td>\n      <td>e9f9993d-b972-4255-8d55-afb98684e577</td>\n      <td>1</td>\n      <td>2019-11-24 12:21:00</td>\n      <td>2019</td>\n      <td>11</td>\n      <td>24</td>\n      <td>12</td>\n      <td>0</td>\n      <td>1</td>\n    </tr>\n    <tr>\n      <th>3</th>\n      <td>4</td>\n      <td>e9f9993d-b972-4255-8d55-afb98684e577</td>\n      <td>1</td>\n      <td>2019-11-24 12:21:40</td>\n      <td>2019</td>\n      <td>11</td>\n      <td>24</td>\n      <td>12</td>\n      <td>0</td>\n      <td>1</td>\n    </tr>\n    <tr>\n      <th>4</th>\n      <td>5</td>\n      <td>e9f9993d-b972-4255-8d55-afb98684e577</td>\n      <td>1</td>\n      <td>2019-11-24 12:20:30</td>\n      <td>2019</td>\n      <td>11</td>\n      <td>24</td>\n      <td>12</td>\n      <td>0</td>\n      <td>1</td>\n    </tr>\n  </tbody>\n</table>\n</div>"
     },
     "metadata": {},
     "execution_count": 23
    }
   ]
  },
  {
   "source": [
    "# SensorLogBatchs "
   ],
   "cell_type": "markdown",
   "metadata": {}
  },
  {
   "cell_type": "code",
   "execution_count": 4,
   "metadata": {},
   "outputs": [
    {
     "output_type": "execute_result",
     "data": {
      "text/plain": "   Id                              SensorId  \\\n0   1  e9f9993d-b972-4255-8d55-afb98684e577   \n1   2  e9f9993d-b972-4255-8d55-afb98684e577   \n2   3  e9f9993d-b972-4255-8d55-afb98684e577   \n3   4  e9f9993d-b972-4255-8d55-afb98684e577   \n4   5  e9f9993d-b972-4255-8d55-afb98684e577   \n\n                         SecretApiToken                   Content  Attempts  \\\n0  d9d1ae11-005e-4506-8a40-9615b794d68a  {time};{wt1};{wt2};{wt3}         4   \n1  d9d1ae11-005e-4506-8a40-9615b794d68a  {time};{wt1};{wt2};{wt3}         4   \n2  d9d1ae11-005e-4506-8a40-9615b794d68a  {time};{wt1};{wt2};{wt3}         4   \n3  d9d1ae11-005e-4506-8a40-9615b794d68a  {time};{wt1};{wt2};{wt3}         4   \n4  d9d1ae11-005e-4506-8a40-9615b794d68a  {time};{wt1};{wt2};{wt3}         4   \n\n                                           Exception  \n0  Message: Input string was not in a correct for...  \n1  Message: Input string was not in a correct for...  \n2  Message: Input string was not in a correct for...  \n3  Message: Input string was not in a correct for...  \n4  Message: Input string was not in a correct for...  ",
      "text/html": "<div>\n<style scoped>\n    .dataframe tbody tr th:only-of-type {\n        vertical-align: middle;\n    }\n\n    .dataframe tbody tr th {\n        vertical-align: top;\n    }\n\n    .dataframe thead th {\n        text-align: right;\n    }\n</style>\n<table border=\"1\" class=\"dataframe\">\n  <thead>\n    <tr style=\"text-align: right;\">\n      <th></th>\n      <th>Id</th>\n      <th>SensorId</th>\n      <th>SecretApiToken</th>\n      <th>Content</th>\n      <th>Attempts</th>\n      <th>Exception</th>\n    </tr>\n  </thead>\n  <tbody>\n    <tr>\n      <th>0</th>\n      <td>1</td>\n      <td>e9f9993d-b972-4255-8d55-afb98684e577</td>\n      <td>d9d1ae11-005e-4506-8a40-9615b794d68a</td>\n      <td>{time};{wt1};{wt2};{wt3}</td>\n      <td>4</td>\n      <td>Message: Input string was not in a correct for...</td>\n    </tr>\n    <tr>\n      <th>1</th>\n      <td>2</td>\n      <td>e9f9993d-b972-4255-8d55-afb98684e577</td>\n      <td>d9d1ae11-005e-4506-8a40-9615b794d68a</td>\n      <td>{time};{wt1};{wt2};{wt3}</td>\n      <td>4</td>\n      <td>Message: Input string was not in a correct for...</td>\n    </tr>\n    <tr>\n      <th>2</th>\n      <td>3</td>\n      <td>e9f9993d-b972-4255-8d55-afb98684e577</td>\n      <td>d9d1ae11-005e-4506-8a40-9615b794d68a</td>\n      <td>{time};{wt1};{wt2};{wt3}</td>\n      <td>4</td>\n      <td>Message: Input string was not in a correct for...</td>\n    </tr>\n    <tr>\n      <th>3</th>\n      <td>4</td>\n      <td>e9f9993d-b972-4255-8d55-afb98684e577</td>\n      <td>d9d1ae11-005e-4506-8a40-9615b794d68a</td>\n      <td>{time};{wt1};{wt2};{wt3}</td>\n      <td>4</td>\n      <td>Message: Input string was not in a correct for...</td>\n    </tr>\n    <tr>\n      <th>4</th>\n      <td>5</td>\n      <td>e9f9993d-b972-4255-8d55-afb98684e577</td>\n      <td>d9d1ae11-005e-4506-8a40-9615b794d68a</td>\n      <td>{time};{wt1};{wt2};{wt3}</td>\n      <td>4</td>\n      <td>Message: Input string was not in a correct for...</td>\n    </tr>\n  </tbody>\n</table>\n</div>"
     },
     "metadata": {},
     "execution_count": 4
    }
   ],
   "source": [
    "sensorLogBatchs = pd.read_sql(\"SELECT * FROM SensorLogBatchs\", db_connection)\n",
    "sensorLogBatchs.head()"
   ]
  },
  {
   "source": [
    "## Count SensorLogBatchs with errors"
   ],
   "cell_type": "markdown",
   "metadata": {}
  },
  {
   "cell_type": "code",
   "execution_count": 16,
   "metadata": {},
   "outputs": [
    {
     "output_type": "execute_result",
     "data": {
      "text/plain": "Id                2\nSensorId          2\nSecretApiToken    2\nContent           2\nAttempts          2\nException         0\ndtype: int64"
     },
     "metadata": {},
     "execution_count": 16
    }
   ],
   "source": [
    "read_sql('SELECT * FROM SensorLogBatchs WHERE Attempts <= 3 ').count()"
   ]
  },
  {
   "source": [
    "# SensorEnergyLogs"
   ],
   "cell_type": "markdown",
   "metadata": {}
  },
  {
   "source": [
    "## Todos SensorEnergyLogs"
   ],
   "cell_type": "markdown",
   "metadata": {}
  },
  {
   "cell_type": "code",
   "execution_count": 53,
   "metadata": {},
   "outputs": [
    {
     "output_type": "execute_result",
     "data": {
      "text/plain": "   Id                              SensorId  SensorDimTimeId    UnixTime  \\\n3   4  e9f9993d-b972-4255-8d55-afb98684e577                4  1574608900   \n6  28  e9f9993d-b972-4255-8d55-afb98684e577               28  1574609000   \n\n   Duration  Watts1  Watts2  Watts3  WattsTotal  ConvertToUnits  \n3      40.0  26.378  52.756  79.134     158.268          26.378  \n6     140.0  26.378  52.756  79.134     158.268          26.378  ",
      "text/html": "<div>\n<style scoped>\n    .dataframe tbody tr th:only-of-type {\n        vertical-align: middle;\n    }\n\n    .dataframe tbody tr th {\n        vertical-align: top;\n    }\n\n    .dataframe thead th {\n        text-align: right;\n    }\n</style>\n<table border=\"1\" class=\"dataframe\">\n  <thead>\n    <tr style=\"text-align: right;\">\n      <th></th>\n      <th>Id</th>\n      <th>SensorId</th>\n      <th>SensorDimTimeId</th>\n      <th>UnixTime</th>\n      <th>Duration</th>\n      <th>Watts1</th>\n      <th>Watts2</th>\n      <th>Watts3</th>\n      <th>WattsTotal</th>\n      <th>ConvertToUnits</th>\n    </tr>\n  </thead>\n  <tbody>\n    <tr>\n      <th>3</th>\n      <td>4</td>\n      <td>e9f9993d-b972-4255-8d55-afb98684e577</td>\n      <td>4</td>\n      <td>1574608900</td>\n      <td>40.0</td>\n      <td>26.378</td>\n      <td>52.756</td>\n      <td>79.134</td>\n      <td>158.268</td>\n      <td>26.378</td>\n    </tr>\n    <tr>\n      <th>6</th>\n      <td>28</td>\n      <td>e9f9993d-b972-4255-8d55-afb98684e577</td>\n      <td>28</td>\n      <td>1574609000</td>\n      <td>140.0</td>\n      <td>26.378</td>\n      <td>52.756</td>\n      <td>79.134</td>\n      <td>158.268</td>\n      <td>26.378</td>\n    </tr>\n  </tbody>\n</table>\n</div>"
     },
     "metadata": {},
     "execution_count": 53
    }
   ],
   "source": [
    "sensorEnergyLogs = pd.read_sql(\"SELECT * FROM SensorEnergyLogs\", db_connection)\n",
    "sensorEnergyLogs[sensorEnergyLogs.Duration > 16].head()"
   ]
  },
  {
   "cell_type": "code",
   "execution_count": 62,
   "metadata": {},
   "outputs": [
    {
     "output_type": "execute_result",
     "data": {
      "text/plain": "count    24035.000000\nmean        15.006199\nstd          0.822270\nmin         14.000000\n25%         15.000000\n50%         15.000000\n75%         15.000000\nmax        140.000000\nName: Duration, dtype: float64"
     },
     "metadata": {},
     "execution_count": 62
    }
   ],
   "source": [
    "SensorEnergyLogs = read_sql(\"SELECT * FROM SensorEnergyLogs\")\n",
    "SensorEnergyLogs.Duration.describe()"
   ]
  },
  {
   "cell_type": "code",
   "execution_count": null,
   "metadata": {},
   "outputs": [],
   "source": []
  }
 ],
 "metadata": {
  "kernelspec": {
   "display_name": "Python 3.7.3 64-bit",
   "language": "python",
   "name": "python_defaultSpec_1600951938610"
  },
  "language_info": {
   "codemirror_mode": {
    "name": "ipython",
    "version": 3
   },
   "file_extension": ".py",
   "mimetype": "text/x-python",
   "name": "python",
   "nbconvert_exporter": "python",
   "pygments_lexer": "ipython3",
   "version": "3.7.3-final"
  }
 },
 "nbformat": 4,
 "nbformat_minor": 4
}