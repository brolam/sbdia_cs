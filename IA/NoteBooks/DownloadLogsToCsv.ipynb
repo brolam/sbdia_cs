{
 "metadata": {
  "language_info": {
   "codemirror_mode": {
    "name": "ipython",
    "version": 3
   },
   "file_extension": ".py",
   "mimetype": "text/x-python",
   "name": "python",
   "nbconvert_exporter": "python",
   "pygments_lexer": "ipython3",
   "version": "3.7.3-final"
  },
  "orig_nbformat": 2,
  "kernelspec": {
   "name": "python3",
   "display_name": "Python 3",
   "language": "python"
  }
 },
 "nbformat": 4,
 "nbformat_minor": 2,
 "cells": [
  {
   "source": [
    "# Download Energylogs:"
   ],
   "cell_type": "markdown",
   "metadata": {}
  },
  {
   "cell_type": "code",
   "execution_count": 1,
   "metadata": {},
   "outputs": [
    {
     "output_type": "stream",
     "name": "stdout",
     "text": [
      "Downloaded: OHA-2021-1.csv\n"
     ]
    }
   ],
   "source": [
    "import requests\n",
    "#Sample keys.secret content: [url]; [sensor_id]; [secretApiToken]\n",
    "[url, sensor_id, secretApiToken] = open('keys.secret', 'r').read().split(\";\")\n",
    "def download_csv(sensor_id, year, month, secretApiToken):\n",
    "  headers = {'secretApiToken': secretApiToken}\n",
    "  with requests.get(\"%s/api/sensor/%s/logsToCsv/%s/%s\" % (url, sensor_id, year, month), stream =  True, headers=headers, verify=False) as response:\n",
    "      fileName = response.headers['content-disposition'].split(\";\")[1].split(\"=\")[1]\n",
    "      with open(\"Data/%s\" % (fileName), 'wb') as f:\n",
    "          for chunk in response.iter_content(chunk_size = 1024):\n",
    "              f.write(chunk)\n",
    "      print( \"Downloaded:\",fileName)\n",
    "\n",
    "download_csv(sensor_id, 2021, 1, secretApiToken)"
   ]
  },
  {
   "cell_type": "code",
   "execution_count": null,
   "metadata": {},
   "outputs": [],
   "source": []
  }
 ]
}