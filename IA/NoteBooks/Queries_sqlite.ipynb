{
 "metadata": {
  "language_info": {
   "codemirror_mode": {
    "name": "ipython",
    "version": 3
   },
   "file_extension": ".py",
   "mimetype": "text/x-python",
   "name": "python",
   "nbconvert_exporter": "python",
   "pygments_lexer": "ipython3",
   "version": "3.7.3-final"
  },
  "orig_nbformat": 2,
  "kernelspec": {
   "name": "Python 3.7.3 64-bit",
   "display_name": "Python 3.7.3 64-bit",
   "metadata": {
    "interpreter": {
     "hash": "31f2aee4e71d21fbe5cf8b01ff0e069b9275f58929596ceb00d14d90e3e16cd6"
    }
   }
  }
 },
 "nbformat": 4,
 "nbformat_minor": 2,
 "cells": [
  {
   "cell_type": "code",
   "execution_count": 9,
   "metadata": {},
   "outputs": [
    {
     "output_type": "execute_result",
     "data": {
      "text/plain": [
       "                                                 name\n",
       "0                                          app_sensor\n",
       "1                       sqlite_autoindex_app_sensor_1\n",
       "2                                  app_sensorlogbatch\n",
       "3                                       app_energylog\n",
       "4                        app_sensor_owner_id_d4da34f3\n",
       "5               app_sensorlogbatch_sensor_id_7afee8d2\n",
       "6                  app_energylog_dim_time_id_f8a8394a\n",
       "7                    app_energylog_sensor_id_a8b78ac7\n",
       "8                                         app_dimtime\n",
       "9                        app_dimtime_cost_id_9d01e15e\n",
       "10                     app_dimtime_sensor_id_4efd4daf\n",
       "11                                           app_cost\n",
       "12                        app_cost_sensor_id_34dcf6a6\n",
       "13    app_energylog_sensor_id_unix_time_ccaf6bec_uniq\n",
       "14      app_dimtime_sensor_id_date_time_d9d151e8_uniq\n",
       "15  django_content_type_app_label_model_76bd3d3b_uniq"
      ],
      "text/html": "<div>\n<style scoped>\n    .dataframe tbody tr th:only-of-type {\n        vertical-align: middle;\n    }\n\n    .dataframe tbody tr th {\n        vertical-align: top;\n    }\n\n    .dataframe thead th {\n        text-align: right;\n    }\n</style>\n<table border=\"1\" class=\"dataframe\">\n  <thead>\n    <tr style=\"text-align: right;\">\n      <th></th>\n      <th>name</th>\n    </tr>\n  </thead>\n  <tbody>\n    <tr>\n      <th>0</th>\n      <td>app_sensor</td>\n    </tr>\n    <tr>\n      <th>1</th>\n      <td>sqlite_autoindex_app_sensor_1</td>\n    </tr>\n    <tr>\n      <th>2</th>\n      <td>app_sensorlogbatch</td>\n    </tr>\n    <tr>\n      <th>3</th>\n      <td>app_energylog</td>\n    </tr>\n    <tr>\n      <th>4</th>\n      <td>app_sensor_owner_id_d4da34f3</td>\n    </tr>\n    <tr>\n      <th>5</th>\n      <td>app_sensorlogbatch_sensor_id_7afee8d2</td>\n    </tr>\n    <tr>\n      <th>6</th>\n      <td>app_energylog_dim_time_id_f8a8394a</td>\n    </tr>\n    <tr>\n      <th>7</th>\n      <td>app_energylog_sensor_id_a8b78ac7</td>\n    </tr>\n    <tr>\n      <th>8</th>\n      <td>app_dimtime</td>\n    </tr>\n    <tr>\n      <th>9</th>\n      <td>app_dimtime_cost_id_9d01e15e</td>\n    </tr>\n    <tr>\n      <th>10</th>\n      <td>app_dimtime_sensor_id_4efd4daf</td>\n    </tr>\n    <tr>\n      <th>11</th>\n      <td>app_cost</td>\n    </tr>\n    <tr>\n      <th>12</th>\n      <td>app_cost_sensor_id_34dcf6a6</td>\n    </tr>\n    <tr>\n      <th>13</th>\n      <td>app_energylog_sensor_id_unix_time_ccaf6bec_uniq</td>\n    </tr>\n    <tr>\n      <th>14</th>\n      <td>app_dimtime_sensor_id_date_time_d9d151e8_uniq</td>\n    </tr>\n    <tr>\n      <th>15</th>\n      <td>django_content_type_app_label_model_76bd3d3b_uniq</td>\n    </tr>\n  </tbody>\n</table>\n</div>"
     },
     "metadata": {},
     "execution_count": 9
    }
   ],
   "source": [
    "import sqlite3\n",
    "import pandas as pd\n",
    "cnx = sqlite3.connect('/sbdia_cs/IA/NoteBooks/Data/db.sqlite3')\n",
    "pd.read_sql_query(\"SELECT name FROM sqlite_master where name like '%app_%'\", cnx)\n"
   ]
  },
  {
   "cell_type": "code",
   "execution_count": 13,
   "metadata": {},
   "outputs": [
    {
     "output_type": "execute_result",
     "data": {
      "text/plain": [
       "   COUNT(*)\n",
       "0   1726800"
      ],
      "text/html": "<div>\n<style scoped>\n    .dataframe tbody tr th:only-of-type {\n        vertical-align: middle;\n    }\n\n    .dataframe tbody tr th {\n        vertical-align: top;\n    }\n\n    .dataframe thead th {\n        text-align: right;\n    }\n</style>\n<table border=\"1\" class=\"dataframe\">\n  <thead>\n    <tr style=\"text-align: right;\">\n      <th></th>\n      <th>COUNT(*)</th>\n    </tr>\n  </thead>\n  <tbody>\n    <tr>\n      <th>0</th>\n      <td>1726800</td>\n    </tr>\n  </tbody>\n</table>\n</div>"
     },
     "metadata": {},
     "execution_count": 13
    }
   ],
   "source": [
    "pd.read_sql_query(\"SELECT COUNT(*) FROM app_energylog\", cnx)"
   ]
  },
  {
   "cell_type": "code",
   "execution_count": 16,
   "metadata": {},
   "outputs": [
    {
     "output_type": "execute_result",
     "data": {
      "text/plain": [
       "        id                  secret_api_token                     content  \\\n",
       "0   687199  ac2d55027ccb47bdb4c0c2a90c48b713   1596824724;3.60;7.70;0.00   \n",
       "1   757969  ac2d55027ccb47bdb4c0c2a90c48b713  1597883826;3.20;15.50;0.00   \n",
       "2  1044094  ac2d55027ccb47bdb4c0c2a90c48b713   1602438730;3.70;8.50;0.00   \n",
       "\n",
       "   attempts                                      exception  \\\n",
       "0         3  no unique mode; found 2 equally common values   \n",
       "1         3  no unique mode; found 2 equally common values   \n",
       "2         0                                                  \n",
       "\n",
       "                          sensor_id  \n",
       "0  36810735079c4d82883348a17565c710  \n",
       "1  36810735079c4d82883348a17565c710  \n",
       "2  36810735079c4d82883348a17565c710  "
      ],
      "text/html": "<div>\n<style scoped>\n    .dataframe tbody tr th:only-of-type {\n        vertical-align: middle;\n    }\n\n    .dataframe tbody tr th {\n        vertical-align: top;\n    }\n\n    .dataframe thead th {\n        text-align: right;\n    }\n</style>\n<table border=\"1\" class=\"dataframe\">\n  <thead>\n    <tr style=\"text-align: right;\">\n      <th></th>\n      <th>id</th>\n      <th>secret_api_token</th>\n      <th>content</th>\n      <th>attempts</th>\n      <th>exception</th>\n      <th>sensor_id</th>\n    </tr>\n  </thead>\n  <tbody>\n    <tr>\n      <th>0</th>\n      <td>687199</td>\n      <td>ac2d55027ccb47bdb4c0c2a90c48b713</td>\n      <td>1596824724;3.60;7.70;0.00</td>\n      <td>3</td>\n      <td>no unique mode; found 2 equally common values</td>\n      <td>36810735079c4d82883348a17565c710</td>\n    </tr>\n    <tr>\n      <th>1</th>\n      <td>757969</td>\n      <td>ac2d55027ccb47bdb4c0c2a90c48b713</td>\n      <td>1597883826;3.20;15.50;0.00</td>\n      <td>3</td>\n      <td>no unique mode; found 2 equally common values</td>\n      <td>36810735079c4d82883348a17565c710</td>\n    </tr>\n    <tr>\n      <th>2</th>\n      <td>1044094</td>\n      <td>ac2d55027ccb47bdb4c0c2a90c48b713</td>\n      <td>1602438730;3.70;8.50;0.00</td>\n      <td>0</td>\n      <td></td>\n      <td>36810735079c4d82883348a17565c710</td>\n    </tr>\n  </tbody>\n</table>\n</div>"
     },
     "metadata": {},
     "execution_count": 16
    }
   ],
   "source": [
    "pd.read_sql_query(\"SELECT * FROM app_sensorlogbatch\", cnx)"
   ]
  },
  {
   "cell_type": "code",
   "execution_count": null,
   "metadata": {},
   "outputs": [],
   "source": []
  }
 ]
}